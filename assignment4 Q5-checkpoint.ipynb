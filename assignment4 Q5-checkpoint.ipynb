{
 "cells": [
  {
   "cell_type": "code",
   "execution_count": 10,
   "metadata": {},
   "outputs": [
    {
     "name": "stdout",
     "output_type": "stream",
     "text": [
      "{'first name': 'Vinesh', 'last name': 'Kumar', 'age': 21, 'city': 'Mithi'}\n",
      "{'first name': 'Vinesh', 'last name': 'Kumar', 'age': 21, 'city': 'Mithi', 'qualification': 'To be updated'}\n",
      "{'first name': 'Vinesh', 'last name': 'Kumar', 'age': 21, 'city': 'Mithi', 'qualification': 'high academic level'}\n",
      "{'first name': 'Vinesh', 'last name': 'Kumar', 'age': 21, 'city': 'Mithi'}\n"
     ]
    }
   ],
   "source": [
    "\n",
    "myinfo = { \n",
    "    \"first name\": \"Vinesh\",\n",
    "    \"last name\" : \"Kumar\",\n",
    "    \"age\"           : 21,\n",
    "    \"city\"          : \"Mithi\"\n",
    "}\n",
    "\n",
    "print(myinfo)\n",
    "\n",
    "myinfo[\"qualification\"] = \"To be updated\"\n",
    "print(myinfo)\n",
    "\n",
    "myinfo[\"qualification\"]= \"high academic level\"\n",
    "print(myinfo)\n",
    "\n",
    "del myinfo[\"qualification\"]\n",
    "print(myinfo)"
   ]
  },
  {
   "cell_type": "code",
   "execution_count": 4,
   "metadata": {},
   "outputs": [
    {
     "name": "stdout",
     "output_type": "stream",
     "text": [
      "{'country': 'Pakistan', 'population': 5000, 'fact': 'There are so many education sectors !'}\n",
      "{'country': 'France', 'population': 199000, 'fact': \"It's a beautiful place !\"}\n",
      "{'country': 'India', 'population': 80000, 'fact': 'It is place of beautifull people !'}\n"
     ]
    }
   ],
   "source": [
    "cities = {\n",
    "    \"Mithi\" : {\"country\"      : \"Pakistan\" ,\n",
    "                              \"population\" : 5000,\n",
    "                              \"fact\"            : \"There are so many education sectors !\"},\n",
    "    \n",
    "    \"Paris\"           : {\"country\"      : \"France\" ,\n",
    "                              \"population\" : 199000,\n",
    "                              \"fact\"            : \"It's a beautiful place !\"},\n",
    "    \n",
    "    \"Amdabad\"    : {\"country\"      : \"India\" ,\n",
    "                              \"population\" : 80000,\n",
    "                              \"fact\"            : \"It is place of beautifull people !\"}\n",
    "}\n",
    "\n",
    "print(cities[\"Mithi\"])\n",
    "print(cities[\"Paris\"])\n",
    "print(cities[\"Amdabad\"])"
   ]
  },
  {
   "cell_type": "code",
   "execution_count": 5,
   "metadata": {},
   "outputs": [
    {
     "name": "stdout",
     "output_type": "stream",
     "text": [
      "\n",
      "Enter your age or 'v' to stop asking :12\n",
      "Your ticket is $30 !\n",
      "\n",
      "Enter your age or 'v' to stop asking :5\n",
      "Your ticket is $30 !\n",
      "\n",
      "Enter your age or 'v' to stop asking :18\n",
      "\n",
      "Enter your age or 'v' to stop asking :v\n"
     ]
    }
   ],
   "source": [
    "flag = True\n",
    "while flag:\n",
    "    age = input(\"\\nEnter your age or 'v' to stop asking :\")\n",
    "    \n",
    "    if age.lower() == 'v':\n",
    "        flag = False\n",
    "    else:\n",
    "        int_age = int(age)\n",
    "        if int_age < 5:\n",
    "            print(\"Your ticket is free !\")\n",
    "        elif int_age >=5 and int_age <=12:\n",
    "            print(\"Your ticket is $30 !\")\n",
    "        elif int_age > 18:\n",
    "            print(\"Your ticket is $60 !\")"
   ]
  },
  {
   "cell_type": "code",
   "execution_count": 6,
   "metadata": {},
   "outputs": [
    {
     "name": "stdout",
     "output_type": "stream",
     "text": [
      "One of my Favorite books is 'In the dream house'.\n",
      "One of my Favorite books is 'You can win '.\n"
     ]
    }
   ],
   "source": [
    "def Favorite_book(title):\n",
    "    print(f\"One of my Favorite books is '{title}'.\")\n",
    "    \n",
    "Favorite_book(\"In the dream house\")\n",
    "Favorite_book(\"You can win \")"
   ]
  },
  {
   "cell_type": "code",
   "execution_count": 8,
   "metadata": {},
   "outputs": [
    {
     "name": "stdout",
     "output_type": "stream",
     "text": [
      "\n",
      "\tYou have 5 chances to guess the hidden number (from 1 to 30): 1\n",
      "\tYour guess is less than the hidden number !\n",
      "\n",
      "\tYou have 4 chances to guess the hidden number (from 1 to 30): 2\n",
      "\tYour guess is less than the hidden number !\n",
      "\n",
      "\tYou have 3 chances to guess the hidden number (from 1 to 30): 3\n",
      "\tYour guess is less than the hidden number !\n",
      "\n",
      "\tYou have 2 chances to guess the hidden number (from 1 to 30): 5\n",
      "\tYour guess is less than the hidden number !\n",
      "\n",
      "\tYou have 1 chances to guess the hidden number (from 1 to 30): 6\n",
      "\tYour guess is less than the hidden number !\n",
      "\n",
      "\tYou Lost ! :(  Hidden Number was 29\n"
     ]
    }
   ],
   "source": [
    "import random as rd\n",
    "i = 5\n",
    "while i > 0:\n",
    "    correct_num = rd.randint(1,30)\n",
    "    user_num = int(input(f\"\\n\\tYou have {i} chances to guess the hidden number (from 1 to 30): \"))\n",
    "    \n",
    "    if user_num == correct_num:\n",
    "        print(\"\\t***Congrats ! Correct Guess, You Won*** :)\")\n",
    "        break\n",
    "    elif user_num > correct_num:\n",
    "        print(\"\\tYour guess is greater than the hidden number !\")\n",
    "        i -= 1\n",
    "    elif user_num < correct_num:\n",
    "        print(\"\\tYour guess is less than the hidden number !\")\n",
    "        i-=1\n",
    "    elif user_num < 1 or user_num > 30:\n",
    "        print(\"\\tPlease enter number in range 1 to 30 !\")\n",
    "        \n",
    "if i == 0:\n",
    "    print(f\"\\n\\tYou Lost ! :(  Hidden Number was {correct_num}\")"
   ]
  },
  {
   "cell_type": "code",
   "execution_count": null,
   "metadata": {},
   "outputs": [],
   "source": []
  }
 ],
 "metadata": {
  "kernelspec": {
   "display_name": "Python 3",
   "language": "python",
   "name": "python3"
  },
  "language_info": {
   "codemirror_mode": {
    "name": "ipython",
    "version": 3
   },
   "file_extension": ".py",
   "mimetype": "text/x-python",
   "name": "python",
   "nbconvert_exporter": "python",
   "pygments_lexer": "ipython3",
   "version": "3.7.4"
  }
 },
 "nbformat": 4,
 "nbformat_minor": 2
}
